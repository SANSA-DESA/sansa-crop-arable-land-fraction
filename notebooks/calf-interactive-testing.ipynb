{
 "cells": [
  {
   "cell_type": "code",
   "execution_count": 118,
   "id": "fc1f011d",
   "metadata": {},
   "outputs": [],
   "source": [
    "import os\n",
    "from pathlib import Path\n",
    "\n",
    "\n",
    "import datacube\n",
    "import fiona\n",
    "import geopandas\n",
    "import rasterio\n",
    "import rasterio.features"
   ]
  },
  {
   "cell_type": "markdown",
   "id": "fe31c6d7",
   "metadata": {},
   "source": [
    "## Create datacube client"
   ]
  },
  {
   "cell_type": "code",
   "execution_count": 3,
   "id": "df43e2f5",
   "metadata": {},
   "outputs": [
    {
     "name": "stdout",
     "output_type": "stream",
     "text": [
      "/datadisk/dev/sansa-crop-arable-land-fraction/docker/datacube/datacube.conf\n"
     ]
    }
   ],
   "source": [
    "config_path = Path(os.getenv(\"DATACUBE_CONF\"))\n",
    "print(config_path)"
   ]
  },
  {
   "cell_type": "code",
   "execution_count": 5,
   "id": "2b1aa65b",
   "metadata": {},
   "outputs": [
    {
     "name": "stderr",
     "output_type": "stream",
     "text": [
      "/datadisk/miniconda3/envs/sansa-crop-arable-land-fraction/lib/python3.8/site-packages/datacube/drivers/postgres/_connections.py:81: SADeprecationWarning: Calling URL() directly is deprecated and will be disabled in a future release.  The public constructor for URL is now the URL.create() method.\n",
      "  EngineUrl(\n"
     ]
    }
   ],
   "source": [
    "dc = datacube.Datacube(\n",
    "    app=\"test-calf\",\n",
    "    env=\"sandbox\",\n",
    "    config=os.getenv(\"DATACUBE_CONF\")\n",
    ")"
   ]
  },
  {
   "cell_type": "markdown",
   "id": "bf9de268",
   "metadata": {},
   "source": [
    "## Determine ROI\n",
    "\n",
    "Use fiona to open the input vector file and get its extent"
   ]
  },
  {
   "cell_type": "code",
   "execution_count": 9,
   "id": "a1f8f26a",
   "metadata": {},
   "outputs": [
    {
     "name": "stdout",
     "output_type": "stream",
     "text": [
      "(28.1996269226074, -26.9093246459961, 28.2274475097656, -26.9013442993164)\n"
     ]
    }
   ],
   "source": [
    "data_dir = Path(os.getenv(\"DATA_DIR\"))\n",
    "with fiona.open(data_dir / \"auxiliary.gpkg\", layer=\"crop-mask\") as src:\n",
    "    roi = src.bounds\n",
    "print(roi)"
   ]
  },
  {
   "cell_type": "markdown",
   "id": "4ba0a0a9",
   "metadata": {},
   "source": [
    "## Load data from the datacube\n",
    "\n",
    "Since both the spatial and temporal ranges are parametrizable by the user, we need to figure out which products are being queried"
   ]
  },
  {
   "cell_type": "code",
   "execution_count": 46,
   "id": "74dbfe61",
   "metadata": {},
   "outputs": [],
   "source": [
    "base_query = {\n",
    "    \"x\": roi[0:3:2],\n",
    "    \"y\": roi[1:4:2],\n",
    "    \"time\": (\"2015-03-01\", \"2015-05-31\"),\n",
    "    \"measurements\": [\n",
    "        \"red\",\n",
    "        \"nir\",\n",
    "        \"spclass\"\n",
    "    ],\n",
    "    \"output_crs\": \"EPSG:32635\",\n",
    "    \"resolution\": (-10, 10),\n",
    "    \"resampling\": \"cubic\",\n",
    "}"
   ]
  },
  {
   "cell_type": "code",
   "execution_count": 50,
   "id": "b7c2080b",
   "metadata": {},
   "outputs": [
    {
     "name": "stdout",
     "output_type": "stream",
     "text": [
      "input_products: ['test_spot7_gauteng_old_eo3']\n"
     ]
    }
   ],
   "source": [
    "input_products = []\n",
    "for name in dc.list_products().name:\n",
    "    existing_datasets = dc.find_datasets(\n",
    "        product=name, \n",
    "        x=base_query[\"x\"], \n",
    "        y=base_query[\"y\"], \n",
    "        time=base_query[\"time\"]\n",
    "    )\n",
    "    if len(existing_datasets) > 0:\n",
    "        input_products.append(name)\n",
    "print(f\"input_products: {input_products}\")"
   ]
  },
  {
   "cell_type": "code",
   "execution_count": 51,
   "id": "6f785e11",
   "metadata": {},
   "outputs": [],
   "source": [
    "ds = dc.load(product=input_products[0], **base_query)"
   ]
  },
  {
   "cell_type": "code",
   "execution_count": 93,
   "id": "ac441d22",
   "metadata": {},
   "outputs": [],
   "source": [
    "valid_ds = ds.where((ds.spclass != flags[\"cloud thick\"]) & (ds.spclass != flags[\"cloud thin\"]))"
   ]
  },
  {
   "cell_type": "code",
   "execution_count": 97,
   "id": "71dcdae8",
   "metadata": {},
   "outputs": [],
   "source": [
    "ndvi = (valid_ds.nir - valid_ds.red) / (valid_ds.nir + valid_ds.red)"
   ]
  },
  {
   "cell_type": "code",
   "execution_count": 98,
   "id": "09be6b4f",
   "metadata": {},
   "outputs": [
    {
     "data": {
      "text/plain": [
       "0.35095137420718814"
      ]
     },
     "execution_count": 98,
     "metadata": {},
     "output_type": "execute_result"
    }
   ],
   "source": [
    "ndvi.sel(time=\"2015-05-19\").values[0][0][0]"
   ]
  },
  {
   "cell_type": "code",
   "execution_count": 99,
   "id": "9da6c46d",
   "metadata": {},
   "outputs": [
    {
     "data": {
      "text/plain": [
       "0.39212513484358147"
      ]
     },
     "execution_count": 99,
     "metadata": {},
     "output_type": "execute_result"
    }
   ],
   "source": [
    "ndvi.sel(time=\"2015-05-26\").values[0][0][0]"
   ]
  },
  {
   "cell_type": "code",
   "execution_count": 67,
   "id": "d7a48828",
   "metadata": {},
   "outputs": [],
   "source": [
    "aggregated_ndvi = ndvi.max(dim=\"time\")"
   ]
  },
  {
   "cell_type": "code",
   "execution_count": 105,
   "id": "f7044da5",
   "metadata": {},
   "outputs": [
    {
     "name": "stdout",
     "output_type": "stream",
     "text": [
      "{'init': 'epsg:4326'}\n"
     ]
    }
   ],
   "source": [
    "with fiona.open(Path(os.getenv(\"DATA_DIR\")) / \"auxiliary.gpkg\", layer=\"crop-mask\") as crop_mask_ds:\n",
    "    print(crop_mask_ds.crs)\n",
    "    # for feature in crop_mask_ds:\n",
    "    #    print(feature[\"geometry\"])"
   ]
  },
  {
   "cell_type": "code",
   "execution_count": 107,
   "id": "df5c0ea5",
   "metadata": {},
   "outputs": [
    {
     "data": {
      "text/plain": [
       "id\n",
       "1    test_spot6_gauteng_old_eo3\n",
       "2    test_spot7_gauteng_old_eo3\n",
       "Name: name, dtype: object"
      ]
     },
     "execution_count": 107,
     "metadata": {},
     "output_type": "execute_result"
    }
   ],
   "source": [
    "dc.list_products().name"
   ]
  },
  {
   "cell_type": "code",
   "execution_count": 113,
   "id": "cca11d43",
   "metadata": {},
   "outputs": [
    {
     "data": {
      "text/plain": [
       "datacube.model.Dataset"
      ]
     },
     "execution_count": 113,
     "metadata": {},
     "output_type": "execute_result"
    }
   ],
   "source": [
    "type(dc.find_datasets(product=\"test_spot7_gauteng_old_eo3\", time=base_query[\"time\"], x=base_query[\"x\"], y=base_query[\"y\"])[0])"
   ]
  },
  {
   "cell_type": "code",
   "execution_count": 116,
   "id": "c5d4a0ff",
   "metadata": {},
   "outputs": [
    {
     "name": "stderr",
     "output_type": "stream",
     "text": [
      "<ipython-input-116-2be9bdd2a87a>:2: RuntimeWarning: Sequential read of iterator was interrupted. Resetting iterator. This can negatively impact the performance.\n",
      "  shapes = [feat[\"geometry\"] for feat in crop_mask_ds]\n"
     ]
    }
   ],
   "source": [
    "with fiona.open(Path(os.getenv(\"DATA_DIR\")) / \"auxiliary.gpkg\", layer=\"crop-mask\") as crop_mask_ds:\n",
    "    shapes = [feat[\"geometry\"] for feat in crop_mask_ds]\n",
    "    crop_mask = rasterio.features.rasterize(((geom, 1) for geom in shapes), out_shape=crop_mask)"
   ]
  },
  {
   "cell_type": "code",
   "execution_count": 117,
   "id": "bc22760b",
   "metadata": {},
   "outputs": [
    {
     "data": {
      "text/plain": [
       "[{'type': 'Polygon',\n",
       "  'coordinates': [[(28.20671794454042, -26.904421942546687),\n",
       "    (28.209438689362916, -26.906442589384753),\n",
       "    (28.20942884417664, -26.90678838176028),\n",
       "    (28.209018685896638, -26.90765919694283),\n",
       "    (28.208533432244884, -26.907196341967662),\n",
       "    (28.207143920188805, -26.90567376866892),\n",
       "    (28.206692698068483, -26.905228811082793),\n",
       "    (28.20671794454042, -26.904421942546687)]]},\n",
       " {'type': 'Polygon',\n",
       "  'coordinates': [[(28.20681511195763, -26.902896992919807),\n",
       "    (28.20918315679947, -26.904666753902063),\n",
       "    (28.209386479523307, -26.90476729940975),\n",
       "    (28.20941428926826, -26.904943738292232),\n",
       "    (28.209498049481105, -26.905017411219312),\n",
       "    (28.209465829791093, -26.90588712423559),\n",
       "    (28.209265675109165, -26.90608411311376),\n",
       "    (28.209423816959617, -26.906324527270193),\n",
       "    (28.209440500641826, -26.906430158116603),\n",
       "    (28.206707021483158, -26.904375844609593),\n",
       "    (28.206747011588735, -26.903015553416548),\n",
       "    (28.20681511195763, -26.902896992919807)]]},\n",
       " {'type': 'Polygon',\n",
       "  'coordinates': [[(28.206682805722576, -26.905268736188177),\n",
       "    (28.20902150961209, -26.907687339511014),\n",
       "    (28.208560258170422, -26.908446814993713),\n",
       "    (28.207531997431722, -26.907095664171248),\n",
       "    (28.20662796883377, -26.905964289899405),\n",
       "    (28.206682805722576, -26.905268736188177)]]},\n",
       " {'type': 'Polygon',\n",
       "  'coordinates': [[(28.204183905390824, -26.90607116783117),\n",
       "    (28.202562849350542, -26.908233006527272),\n",
       "    (28.201837713291408, -26.907830033234656),\n",
       "    (28.201538539880524, -26.907493173010437),\n",
       "    (28.20145386550431, -26.906842977102254),\n",
       "    (28.201237074398332, -26.90644962226477),\n",
       "    (28.20133345333178, -26.905756041150813),\n",
       "    (28.201226003346097, -26.905403600540385),\n",
       "    (28.200649892500216, -26.904869169274814),\n",
       "    (28.199937785508297, -26.904224305427128),\n",
       "    (28.199958060723326, -26.903689451383315),\n",
       "    (28.199988510076672, -26.90313591321882),\n",
       "    (28.199630055538343, -26.90258567927202),\n",
       "    (28.19989679602999, -26.902309098023828),\n",
       "    (28.202779515116788, -26.90225202890961),\n",
       "    (28.204183905390824, -26.90607116783117)]]},\n",
       " {'type': 'Polygon',\n",
       "  'coordinates': [[(28.206831038251835, -26.90287070393754),\n",
       "    (28.207453167485657, -26.901635619524438),\n",
       "    (28.207597342726142, -26.901539074022214),\n",
       "    (28.208230565086527, -26.901347681821935),\n",
       "    (28.208979948061085, -26.901594660647895),\n",
       "    (28.21152036826352, -26.902751511199092),\n",
       "    (28.214675611483553, -26.904900321727787),\n",
       "    (28.21352262317015, -26.908620449092293),\n",
       "    (28.213281155754807, -26.90859114083945),\n",
       "    (28.212936896109802, -26.908284914161005),\n",
       "    (28.21273735857573, -26.908054158593938),\n",
       "    (28.212595618295573, -26.907650878890003),\n",
       "    (28.212519751745848, -26.907102902190857),\n",
       "    (28.212245533826955, -26.90667751261758),\n",
       "    (28.2118125637633, -26.90619769222754),\n",
       "    (28.21142028747725, -26.905643130972965),\n",
       "    (28.211230831109464, -26.905384390147876),\n",
       "    (28.21148065247642, -26.904982399132034),\n",
       "    (28.211267948968967, -26.90497492505697),\n",
       "    (28.210980439550948, -26.905247055885315),\n",
       "    (28.210410958046854, -26.90485209058432),\n",
       "    (28.21030219222855, -26.904378784508083),\n",
       "    (28.20994360358652, -26.904307467157924),\n",
       "    (28.209717772922794, -26.904527923611596),\n",
       "    (28.209392971755374, -26.9047073828268),\n",
       "    (28.206831038251835, -26.90287070393754)]]},\n",
       " {'type': 'Polygon',\n",
       "  'coordinates': [[(28.220315726196507, -26.904817984544657),\n",
       "    (28.221878666360215, -26.905483278985923),\n",
       "    (28.226026814234874, -26.906386497816598),\n",
       "    (28.22667072134436, -26.906464594243076),\n",
       "    (28.226683303291342, -26.906669057553177),\n",
       "    (28.22718573773459, -26.907092434437008),\n",
       "    (28.22736908490698, -26.907741753511388),\n",
       "    (28.227446912221655, -26.908224612065258),\n",
       "    (28.2268217087235, -26.908918153407107),\n",
       "    (28.22639709073479, -26.908977634778896),\n",
       "    (28.2259171004243, -26.90871213928353),\n",
       "    (28.225359262965156, -26.90892155422707),\n",
       "    (28.224958397515707, -26.909259787814676),\n",
       "    (28.224574258826454, -26.909225924995265),\n",
       "    (28.222884641788113, -26.909324257967484),\n",
       "    (28.22215815049175, -26.909284054555894),\n",
       "    (28.221626011540668, -26.908991099357376),\n",
       "    (28.220751124158898, -26.908654612037587),\n",
       "    (28.219613622791673, -26.906079384469052),\n",
       "    (28.220315726196507, -26.904817984544657)]]}]"
      ]
     },
     "execution_count": 117,
     "metadata": {},
     "output_type": "execute_result"
    }
   ],
   "source": [
    "shapes"
   ]
  },
  {
   "cell_type": "code",
   "execution_count": 119,
   "id": "8817a548",
   "metadata": {},
   "outputs": [
    {
     "name": "stderr",
     "output_type": "stream",
     "text": [
      "/datadisk/miniconda3/envs/sansa-crop-arable-land-fraction/lib/python3.8/site-packages/geopandas/geodataframe.py:577: RuntimeWarning: Sequential read of iterator was interrupted. Resetting iterator. This can negatively impact the performance.\n",
      "  for feature in features_lst:\n"
     ]
    }
   ],
   "source": [
    "crop_mask_gdf = geopandas.read_file(Path(os.getenv(\"DATA_DIR\")) / \"auxiliary.gpkg\", layer=\"crop-mask\")"
   ]
  },
  {
   "cell_type": "code",
   "execution_count": 132,
   "id": "f18fb7c5",
   "metadata": {},
   "outputs": [
    {
     "data": {
      "text/plain": [
       "pandas.core.series.Series"
      ]
     },
     "execution_count": 132,
     "metadata": {},
     "output_type": "execute_result"
    }
   ],
   "source": [
    "type(crop_mask_gdf.iloc[0])"
   ]
  },
  {
   "cell_type": "code",
   "execution_count": 131,
   "id": "cbb0cc4d",
   "metadata": {},
   "outputs": [
    {
     "data": {
      "text/plain": [
       "4326"
      ]
     },
     "execution_count": 131,
     "metadata": {},
     "output_type": "execute_result"
    }
   ],
   "source": [
    "crop_mask_gdf.crs.to_epsg()"
   ]
  }
 ],
 "metadata": {
  "kernelspec": {
   "display_name": "Python 3",
   "language": "python",
   "name": "python3"
  },
  "language_info": {
   "codemirror_mode": {
    "name": "ipython",
    "version": 3
   },
   "file_extension": ".py",
   "mimetype": "text/x-python",
   "name": "python",
   "nbconvert_exporter": "python",
   "pygments_lexer": "ipython3",
   "version": "3.8.10"
  }
 },
 "nbformat": 4,
 "nbformat_minor": 5
}
